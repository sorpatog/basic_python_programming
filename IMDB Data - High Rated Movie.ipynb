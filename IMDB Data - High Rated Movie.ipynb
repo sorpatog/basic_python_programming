{
 "cells": [
  {
   "cell_type": "markdown",
   "metadata": {},
   "source": [
    "# High Rating Movies Criteria\n",
    "## Loading Data"
   ]
  },
  {
   "cell_type": "code",
   "execution_count": 13,
   "metadata": {},
   "outputs": [
    {
     "data": {
      "text/html": [
       "<div>\n",
       "<style scoped>\n",
       "    .dataframe tbody tr th:only-of-type {\n",
       "        vertical-align: middle;\n",
       "    }\n",
       "\n",
       "    .dataframe tbody tr th {\n",
       "        vertical-align: top;\n",
       "    }\n",
       "\n",
       "    .dataframe thead th {\n",
       "        text-align: right;\n",
       "    }\n",
       "</style>\n",
       "<table border=\"1\" class=\"dataframe\">\n",
       "  <thead>\n",
       "    <tr style=\"text-align: right;\">\n",
       "      <th></th>\n",
       "      <th>movie_ID</th>\n",
       "      <th>movie_title</th>\n",
       "      <th>duration</th>\n",
       "      <th>color</th>\n",
       "      <th>title_year</th>\n",
       "      <th>country</th>\n",
       "      <th>language</th>\n",
       "      <th>content_rating</th>\n",
       "      <th>budget_USD</th>\n",
       "      <th>gross_USD</th>\n",
       "      <th>...</th>\n",
       "      <th>actor_3_facebook?</th>\n",
       "      <th>actor_3_facebook_likes</th>\n",
       "      <th>cast_total_facebook_likes</th>\n",
       "      <th>movie_facebook?</th>\n",
       "      <th>movie_facebook_likes;</th>\n",
       "      <th>facenumber_in_poster</th>\n",
       "      <th>num_voted_users</th>\n",
       "      <th>num_user_for_reviews</th>\n",
       "      <th>imdb_score</th>\n",
       "      <th>imdb_top_250</th>\n",
       "    </tr>\n",
       "  </thead>\n",
       "  <tbody>\n",
       "    <tr>\n",
       "      <th>0</th>\n",
       "      <td>1</td>\n",
       "      <td>Avatar</td>\n",
       "      <td>178</td>\n",
       "      <td>1</td>\n",
       "      <td>2009</td>\n",
       "      <td>USA</td>\n",
       "      <td>English</td>\n",
       "      <td>PG-13</td>\n",
       "      <td>237000000</td>\n",
       "      <td>760505847</td>\n",
       "      <td>...</td>\n",
       "      <td>1</td>\n",
       "      <td>855</td>\n",
       "      <td>4834</td>\n",
       "      <td>1</td>\n",
       "      <td>33000</td>\n",
       "      <td>0</td>\n",
       "      <td>886204</td>\n",
       "      <td>3054</td>\n",
       "      <td>7.9</td>\n",
       "      <td>0</td>\n",
       "    </tr>\n",
       "    <tr>\n",
       "      <th>1</th>\n",
       "      <td>2</td>\n",
       "      <td>Pirates of the Caribbean: At World's End</td>\n",
       "      <td>169</td>\n",
       "      <td>1</td>\n",
       "      <td>2007</td>\n",
       "      <td>USA</td>\n",
       "      <td>English</td>\n",
       "      <td>PG-13</td>\n",
       "      <td>300000000</td>\n",
       "      <td>309404152</td>\n",
       "      <td>...</td>\n",
       "      <td>1</td>\n",
       "      <td>1000</td>\n",
       "      <td>48350</td>\n",
       "      <td>0</td>\n",
       "      <td>0</td>\n",
       "      <td>0</td>\n",
       "      <td>471220</td>\n",
       "      <td>1238</td>\n",
       "      <td>7.1</td>\n",
       "      <td>0</td>\n",
       "    </tr>\n",
       "    <tr>\n",
       "      <th>2</th>\n",
       "      <td>3</td>\n",
       "      <td>The Dark Knight Rises</td>\n",
       "      <td>164</td>\n",
       "      <td>1</td>\n",
       "      <td>2012</td>\n",
       "      <td>USA</td>\n",
       "      <td>English</td>\n",
       "      <td>PG-13</td>\n",
       "      <td>250000000</td>\n",
       "      <td>448130642</td>\n",
       "      <td>...</td>\n",
       "      <td>1</td>\n",
       "      <td>23000</td>\n",
       "      <td>106759</td>\n",
       "      <td>1</td>\n",
       "      <td>164000</td>\n",
       "      <td>0</td>\n",
       "      <td>1144337</td>\n",
       "      <td>2701</td>\n",
       "      <td>8.5</td>\n",
       "      <td>1</td>\n",
       "    </tr>\n",
       "    <tr>\n",
       "      <th>3</th>\n",
       "      <td>4</td>\n",
       "      <td>Spider-Man 3</td>\n",
       "      <td>156</td>\n",
       "      <td>1</td>\n",
       "      <td>2007</td>\n",
       "      <td>USA</td>\n",
       "      <td>English</td>\n",
       "      <td>PG-13</td>\n",
       "      <td>258000000</td>\n",
       "      <td>336530303</td>\n",
       "      <td>...</td>\n",
       "      <td>1</td>\n",
       "      <td>4000</td>\n",
       "      <td>46055</td>\n",
       "      <td>0</td>\n",
       "      <td>0</td>\n",
       "      <td>0</td>\n",
       "      <td>383056</td>\n",
       "      <td>1902</td>\n",
       "      <td>6.2</td>\n",
       "      <td>0</td>\n",
       "    </tr>\n",
       "    <tr>\n",
       "      <th>4</th>\n",
       "      <td>5</td>\n",
       "      <td>Batman v Superman: Dawn of Justice</td>\n",
       "      <td>183</td>\n",
       "      <td>1</td>\n",
       "      <td>2016</td>\n",
       "      <td>USA</td>\n",
       "      <td>English</td>\n",
       "      <td>PG-13</td>\n",
       "      <td>250000000</td>\n",
       "      <td>330249062</td>\n",
       "      <td>...</td>\n",
       "      <td>1</td>\n",
       "      <td>2000</td>\n",
       "      <td>24450</td>\n",
       "      <td>1</td>\n",
       "      <td>197000</td>\n",
       "      <td>0</td>\n",
       "      <td>371639</td>\n",
       "      <td>3018</td>\n",
       "      <td>6.9</td>\n",
       "      <td>0</td>\n",
       "    </tr>\n",
       "  </tbody>\n",
       "</table>\n",
       "<p>5 rows × 36 columns</p>\n",
       "</div>"
      ],
      "text/plain": [
       "   movie_ID                               movie_title  duration  color  \\\n",
       "0         1                                    Avatar       178      1   \n",
       "1         2  Pirates of the Caribbean: At World's End       169      1   \n",
       "2         3                     The Dark Knight Rises       164      1   \n",
       "3         4                              Spider-Man 3       156      1   \n",
       "4         5        Batman v Superman: Dawn of Justice       183      1   \n",
       "\n",
       "   title_year country language content_rating  budget_USD  gross_USD  \\\n",
       "0        2009     USA  English          PG-13   237000000  760505847   \n",
       "1        2007     USA  English          PG-13   300000000  309404152   \n",
       "2        2012     USA  English          PG-13   250000000  448130642   \n",
       "3        2007     USA  English          PG-13   258000000  336530303   \n",
       "4        2016     USA  English          PG-13   250000000  330249062   \n",
       "\n",
       "       ...       actor_3_facebook?  actor_3_facebook_likes  \\\n",
       "0      ...                       1                     855   \n",
       "1      ...                       1                    1000   \n",
       "2      ...                       1                   23000   \n",
       "3      ...                       1                    4000   \n",
       "4      ...                       1                    2000   \n",
       "\n",
       "  cast_total_facebook_likes movie_facebook?  movie_facebook_likes;  \\\n",
       "0                      4834               1                  33000   \n",
       "1                     48350               0                      0   \n",
       "2                    106759               1                 164000   \n",
       "3                     46055               0                      0   \n",
       "4                     24450               1                 197000   \n",
       "\n",
       "   facenumber_in_poster num_voted_users  num_user_for_reviews  imdb_score  \\\n",
       "0                     0          886204                  3054         7.9   \n",
       "1                     0          471220                  1238         7.1   \n",
       "2                     0         1144337                  2701         8.5   \n",
       "3                     0          383056                  1902         6.2   \n",
       "4                     0          371639                  3018         6.9   \n",
       "\n",
       "   imdb_top_250  \n",
       "0             0  \n",
       "1             0  \n",
       "2             1  \n",
       "3             0  \n",
       "4             0  \n",
       "\n",
       "[5 rows x 36 columns]"
      ]
     },
     "execution_count": 13,
     "metadata": {},
     "output_type": "execute_result"
    }
   ],
   "source": [
    "import pandas as pd\n",
    "imdb = pd.read_csv('https://raw.githubusercontent.com/scalabretta/GroupProject--IMDB/master/Dataset/IMDB-database-update.csv', encoding='latin1')\n",
    "imdb.head(5)"
   ]
  },
  {
   "cell_type": "markdown",
   "metadata": {},
   "source": [
    "## Data Cleaning"
   ]
  },
  {
   "cell_type": "code",
   "execution_count": 44,
   "metadata": {},
   "outputs": [
    {
     "data": {
      "text/plain": [
       "movie_ID                     0\n",
       "movie_title                  0\n",
       "duration                     0\n",
       "color                        0\n",
       "title_year                   0\n",
       "country                      0\n",
       "language                     0\n",
       "content_rating               0\n",
       "budget_USD                   0\n",
       "gross_USD                    0\n",
       "net_USD                      0\n",
       "profitable                   0\n",
       "director_name                0\n",
       "director_top20?              0\n",
       "director_facebook?           0\n",
       "director_facebook_likes      0\n",
       "actor_1_name                 0\n",
       "actor_top20?                 0\n",
       "actor_1_facebook?            0\n",
       "actor_1_facebook_likes       0\n",
       "actor_2_name                 0\n",
       "actor_top20?.1               0\n",
       "actor_2_facebook?            0\n",
       "actor_2_facebook_likes       0\n",
       "actor_3_name                 0\n",
       "actor_top20?.2               0\n",
       "actor_3_facebook?            0\n",
       "actor_3_facebook_likes       0\n",
       "cast_total_facebook_likes    0\n",
       "movie_facebook?              0\n",
       "movie_facebook_likes;        0\n",
       "facenumber_in_poster         0\n",
       "num_voted_users              0\n",
       "num_user_for_reviews         0\n",
       "imdb_score                   0\n",
       "imdb_top_250                 0\n",
       "dtype: int64"
      ]
     },
     "execution_count": 44,
     "metadata": {},
     "output_type": "execute_result"
    }
   ],
   "source": [
    "imdb.isnull().sum()"
   ]
  },
  {
   "cell_type": "code",
   "execution_count": 42,
   "metadata": {},
   "outputs": [],
   "source": [
    "imdb = imdb[(imdb['director_top20?']=='0') | (imdb['director_top20?']=='1')]\n",
    "imdb['director_top20?'] = imdb['director_top20?'].astype(int)"
   ]
  },
  {
   "cell_type": "markdown",
   "metadata": {},
   "source": [
    "## Features Selection"
   ]
  },
  {
   "cell_type": "code",
   "execution_count": 43,
   "metadata": {
    "scrolled": true
   },
   "outputs": [
    {
     "data": {
      "text/plain": [
       "Index(['movie_ID', 'duration', 'color', 'title_year', 'budget_USD',\n",
       "       'gross_USD', 'net_USD', 'profitable', 'director_top20?',\n",
       "       'director_facebook?', 'director_facebook_likes', 'actor_top20?',\n",
       "       'actor_1_facebook?', 'actor_1_facebook_likes', 'actor_top20?.1',\n",
       "       'actor_2_facebook?', 'actor_2_facebook_likes', 'actor_top20?.2',\n",
       "       'actor_3_facebook?', 'actor_3_facebook_likes',\n",
       "       'cast_total_facebook_likes', 'movie_facebook?', 'movie_facebook_likes;',\n",
       "       'facenumber_in_poster', 'num_voted_users', 'num_user_for_reviews',\n",
       "       'imdb_score', 'imdb_top_250'],\n",
       "      dtype='object')"
      ]
     },
     "execution_count": 43,
     "metadata": {},
     "output_type": "execute_result"
    }
   ],
   "source": [
    "imdb.select_dtypes(exclude='object').columns"
   ]
  },
  {
   "cell_type": "code",
   "execution_count": 7,
   "metadata": {},
   "outputs": [],
   "source": [
    "numeric_variable = ['duration', 'color', 'title_year', 'budget_USD',\n",
    "       'gross_USD', 'net_USD', 'profitable', 'director_top20?',\n",
    "       'director_facebook?', 'director_facebook_likes', 'actor_top20?',\n",
    "       'actor_1_facebook?', 'actor_1_facebook_likes', 'actor_top20?.1',\n",
    "       'actor_2_facebook?', 'actor_2_facebook_likes', 'actor_top20?.2',\n",
    "       'actor_3_facebook?', 'actor_3_facebook_likes',\n",
    "       'cast_total_facebook_likes', 'movie_facebook?', 'movie_facebook_likes;',\n",
    "       'facenumber_in_poster', 'num_voted_users', 'num_user_for_reviews',\n",
    "       'imdb_score', 'imdb_top_250']"
   ]
  },
  {
   "cell_type": "markdown",
   "metadata": {},
   "source": [
    "### t test"
   ]
  },
  {
   "cell_type": "code",
   "execution_count": 61,
   "metadata": {},
   "outputs": [],
   "source": [
    "from scipy import stats"
   ]
  },
  {
   "cell_type": "code",
   "execution_count": 71,
   "metadata": {
    "scrolled": true
   },
   "outputs": [
    {
     "name": "stdout",
     "output_type": "stream",
     "text": [
      "duration\n",
      "color\n",
      "gross_USD\n",
      "net_USD\n",
      "profitable\n",
      "director_top20?\n",
      "director_facebook?\n",
      "director_facebook_likes\n",
      "actor_top20?\n",
      "actor_1_facebook_likes\n",
      "actor_top20?.1\n",
      "actor_2_facebook_likes\n",
      "actor_top20?.2\n",
      "actor_3_facebook_likes\n",
      "cast_total_facebook_likes\n",
      "movie_facebook?\n",
      "movie_facebook_likes;\n",
      "facenumber_in_poster\n",
      "num_voted_users\n",
      "num_user_for_reviews\n",
      "imdb_score\n",
      "imdb_top_250\n"
     ]
    }
   ],
   "source": [
    "for item in numeric_variable:\n",
    "    a = stats.ttest_ind(imdb_high[item], imdb_low[item],  equal_var = False)\n",
    "    if (a.pvalue<0.05):\n",
    "        print(item)"
   ]
  },
  {
   "cell_type": "markdown",
   "metadata": {},
   "source": [
    "### Correlation value"
   ]
  },
  {
   "cell_type": "code",
   "execution_count": 78,
   "metadata": {},
   "outputs": [
    {
     "data": {
      "text/plain": [
       "movie_facebook?              0.005919\n",
       "actor_1_facebook?            0.007474\n",
       "budget_USD                   0.029899\n",
       "net_USD                      0.035675\n",
       "actor_2_facebook?            0.041763\n",
       "actor_3_facebook?            0.043454\n",
       "actor_top20?.2               0.060296\n",
       "actor_3_facebook_likes       0.066476\n",
       "facenumber_in_poster         0.067903\n",
       "actor_1_facebook_likes       0.092281\n",
       "actor_top20?.1               0.099312\n",
       "director_top20?              0.103105\n",
       "actor_2_facebook_likes       0.104257\n",
       "cast_total_facebook_likes    0.106400\n",
       "color                        0.118755\n",
       "actor_top20?                 0.131350\n",
       "director_facebook?           0.140049\n",
       "profitable                   0.191339\n",
       "director_facebook_likes      0.193517\n",
       "gross_USD                    0.215737\n",
       "movie_facebook_likes;        0.281011\n",
       "num_user_for_reviews         0.323491\n",
       "duration                     0.366436\n",
       "imdb_top_250                 0.371100\n",
       "num_voted_users              0.479143\n",
       "imdb_score                   1.000000\n",
       "Name: imdb_score, dtype: float64"
      ]
     },
     "execution_count": 78,
     "metadata": {},
     "output_type": "execute_result"
    }
   ],
   "source": [
    "abs(imdb[numeric_variable].corr()['imdb_score']).sort_values()"
   ]
  },
  {
   "cell_type": "markdown",
   "metadata": {},
   "source": [
    "chosen features/variables :\n",
    "* gross_USD                   \n",
    "* movie_facebook_likes;        \n",
    "* num_user_for_reviews\n",
    "* duration\n",
    "* imdb_top_250\n",
    "* num_voted_users"
   ]
  },
  {
   "cell_type": "markdown",
   "metadata": {},
   "source": [
    "## Creating New Variable"
   ]
  },
  {
   "cell_type": "code",
   "execution_count": 45,
   "metadata": {},
   "outputs": [],
   "source": [
    "score_group = [\"High\" if x>7.5 else \"Low\" for x in imdb['imdb_score']]"
   ]
  },
  {
   "cell_type": "code",
   "execution_count": 46,
   "metadata": {},
   "outputs": [],
   "source": [
    "imdb['score_group'] = score_group"
   ]
  },
  {
   "cell_type": "markdown",
   "metadata": {},
   "source": [
    "## Slicing Dataframe"
   ]
  },
  {
   "cell_type": "code",
   "execution_count": 48,
   "metadata": {},
   "outputs": [],
   "source": [
    "imdb_high = imdb[imdb['score_group']==\"High\"]\n",
    "imdb_low = imdb[imdb['score_group']==\"Low\"]"
   ]
  },
  {
   "cell_type": "markdown",
   "metadata": {},
   "source": [
    "## The Differences between high and low rated movies"
   ]
  },
  {
   "cell_type": "code",
   "execution_count": 76,
   "metadata": {},
   "outputs": [
    {
     "data": {
      "text/plain": [
       "gross_USD                84321188.79\n",
       "movie_facebook_likes;       24933.83\n",
       "num_user_for_reviews          690.18\n",
       "duration                      125.52\n",
       "imdb_top_250                    0.29\n",
       "num_voted_users            295918.34\n",
       "dtype: float64"
      ]
     },
     "execution_count": 76,
     "metadata": {},
     "output_type": "execute_result"
    }
   ],
   "source": [
    "imdb_high[['gross_USD','movie_facebook_likes;','num_user_for_reviews','duration','imdb_top_250','num_voted_users']].mean().round(2)"
   ]
  },
  {
   "cell_type": "code",
   "execution_count": 77,
   "metadata": {
    "scrolled": false
   },
   "outputs": [
    {
     "data": {
      "text/plain": [
       "gross_USD                46266640.45\n",
       "movie_facebook_likes;        6684.64\n",
       "num_user_for_reviews          272.21\n",
       "duration                      107.37\n",
       "imdb_top_250                    0.00\n",
       "num_voted_users             72233.04\n",
       "dtype: float64"
      ]
     },
     "execution_count": 77,
     "metadata": {},
     "output_type": "execute_result"
    }
   ],
   "source": [
    "imdb_low[['gross_USD','movie_facebook_likes;','num_user_for_reviews','duration','imdb_top_250','num_voted_users']].mean().round(2)"
   ]
  },
  {
   "cell_type": "markdown",
   "metadata": {},
   "source": [
    "From the statistics above, we can conclude that:\n",
    "* High rated movies make more money\n",
    "* High rated movies are more likely to be *'liked'* in Facebook\n",
    "* High rated movies are more likely to be reviewed by IMDB user\n",
    "* High rated movies have longer duration\n",
    "* High rated movies are more likely to be voted by users"
   ]
  }
 ],
 "metadata": {
  "kernelspec": {
   "display_name": "Python 3",
   "language": "python",
   "name": "python3"
  },
  "language_info": {
   "codemirror_mode": {
    "name": "ipython",
    "version": 3
   },
   "file_extension": ".py",
   "mimetype": "text/x-python",
   "name": "python",
   "nbconvert_exporter": "python",
   "pygments_lexer": "ipython3",
   "version": "3.6.1"
  }
 },
 "nbformat": 4,
 "nbformat_minor": 2
}
