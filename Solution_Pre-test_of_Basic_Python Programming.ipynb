{
 "cells": [
  {
   "cell_type": "markdown",
   "metadata": {},
   "source": [
    "# Basic Python Programming\n",
    "## Solutions of Pre-test\n",
    "\n",
    "This document is solution of pre-test for **Basic Python Programming** class at Telkomsel<br>\n",
    "Trainer: B. Ari Kuncoro <br>\n",
    "Dataset: IMDB <br>\n",
    "Objective: To explore data of IMDB, using pandas and numpy packages. <br>\n",
    "Date: 30 Sep 2019"
   ]
  },
  {
   "cell_type": "markdown",
   "metadata": {},
   "source": [
    "### Import Modules"
   ]
  },
  {
   "cell_type": "code",
   "execution_count": 1,
   "metadata": {},
   "outputs": [],
   "source": [
    "import pandas as pd\n",
    "import numpy as np"
   ]
  },
  {
   "cell_type": "markdown",
   "metadata": {},
   "source": [
    "### Load and Check Dataset"
   ]
  },
  {
   "cell_type": "code",
   "execution_count": 2,
   "metadata": {},
   "outputs": [
    {
     "data": {
      "text/html": [
       "<div>\n",
       "<style scoped>\n",
       "    .dataframe tbody tr th:only-of-type {\n",
       "        vertical-align: middle;\n",
       "    }\n",
       "\n",
       "    .dataframe tbody tr th {\n",
       "        vertical-align: top;\n",
       "    }\n",
       "\n",
       "    .dataframe thead th {\n",
       "        text-align: right;\n",
       "    }\n",
       "</style>\n",
       "<table border=\"1\" class=\"dataframe\">\n",
       "  <thead>\n",
       "    <tr style=\"text-align: right;\">\n",
       "      <th></th>\n",
       "      <th>movie_ID</th>\n",
       "      <th>movie_title</th>\n",
       "      <th>duration</th>\n",
       "      <th>color</th>\n",
       "      <th>title_year</th>\n",
       "      <th>country</th>\n",
       "      <th>language</th>\n",
       "      <th>content_rating</th>\n",
       "      <th>budget_USD</th>\n",
       "      <th>gross_USD</th>\n",
       "      <th>...</th>\n",
       "      <th>actor_3_facebook?</th>\n",
       "      <th>actor_3_facebook_likes</th>\n",
       "      <th>cast_total_facebook_likes</th>\n",
       "      <th>movie_facebook?</th>\n",
       "      <th>movie_facebook_likes;</th>\n",
       "      <th>facenumber_in_poster</th>\n",
       "      <th>num_voted_users</th>\n",
       "      <th>num_user_for_reviews</th>\n",
       "      <th>imdb_score</th>\n",
       "      <th>imdb_top_250</th>\n",
       "    </tr>\n",
       "  </thead>\n",
       "  <tbody>\n",
       "    <tr>\n",
       "      <th>0</th>\n",
       "      <td>1</td>\n",
       "      <td>Avatar</td>\n",
       "      <td>178</td>\n",
       "      <td>1</td>\n",
       "      <td>2009</td>\n",
       "      <td>USA</td>\n",
       "      <td>English</td>\n",
       "      <td>PG-13</td>\n",
       "      <td>237000000</td>\n",
       "      <td>760505847</td>\n",
       "      <td>...</td>\n",
       "      <td>1</td>\n",
       "      <td>855</td>\n",
       "      <td>4834</td>\n",
       "      <td>1</td>\n",
       "      <td>33000</td>\n",
       "      <td>0</td>\n",
       "      <td>886204</td>\n",
       "      <td>3054</td>\n",
       "      <td>7.9</td>\n",
       "      <td>0</td>\n",
       "    </tr>\n",
       "    <tr>\n",
       "      <th>1</th>\n",
       "      <td>2</td>\n",
       "      <td>Pirates of the Caribbean: At World's End</td>\n",
       "      <td>169</td>\n",
       "      <td>1</td>\n",
       "      <td>2007</td>\n",
       "      <td>USA</td>\n",
       "      <td>English</td>\n",
       "      <td>PG-13</td>\n",
       "      <td>300000000</td>\n",
       "      <td>309404152</td>\n",
       "      <td>...</td>\n",
       "      <td>1</td>\n",
       "      <td>1000</td>\n",
       "      <td>48350</td>\n",
       "      <td>0</td>\n",
       "      <td>0</td>\n",
       "      <td>0</td>\n",
       "      <td>471220</td>\n",
       "      <td>1238</td>\n",
       "      <td>7.1</td>\n",
       "      <td>0</td>\n",
       "    </tr>\n",
       "    <tr>\n",
       "      <th>2</th>\n",
       "      <td>3</td>\n",
       "      <td>The Dark Knight Rises</td>\n",
       "      <td>164</td>\n",
       "      <td>1</td>\n",
       "      <td>2012</td>\n",
       "      <td>USA</td>\n",
       "      <td>English</td>\n",
       "      <td>PG-13</td>\n",
       "      <td>250000000</td>\n",
       "      <td>448130642</td>\n",
       "      <td>...</td>\n",
       "      <td>1</td>\n",
       "      <td>23000</td>\n",
       "      <td>106759</td>\n",
       "      <td>1</td>\n",
       "      <td>164000</td>\n",
       "      <td>0</td>\n",
       "      <td>1144337</td>\n",
       "      <td>2701</td>\n",
       "      <td>8.5</td>\n",
       "      <td>1</td>\n",
       "    </tr>\n",
       "    <tr>\n",
       "      <th>3</th>\n",
       "      <td>4</td>\n",
       "      <td>Spider-Man 3</td>\n",
       "      <td>156</td>\n",
       "      <td>1</td>\n",
       "      <td>2007</td>\n",
       "      <td>USA</td>\n",
       "      <td>English</td>\n",
       "      <td>PG-13</td>\n",
       "      <td>258000000</td>\n",
       "      <td>336530303</td>\n",
       "      <td>...</td>\n",
       "      <td>1</td>\n",
       "      <td>4000</td>\n",
       "      <td>46055</td>\n",
       "      <td>0</td>\n",
       "      <td>0</td>\n",
       "      <td>0</td>\n",
       "      <td>383056</td>\n",
       "      <td>1902</td>\n",
       "      <td>6.2</td>\n",
       "      <td>0</td>\n",
       "    </tr>\n",
       "    <tr>\n",
       "      <th>4</th>\n",
       "      <td>5</td>\n",
       "      <td>Batman v Superman: Dawn of Justice</td>\n",
       "      <td>183</td>\n",
       "      <td>1</td>\n",
       "      <td>2016</td>\n",
       "      <td>USA</td>\n",
       "      <td>English</td>\n",
       "      <td>PG-13</td>\n",
       "      <td>250000000</td>\n",
       "      <td>330249062</td>\n",
       "      <td>...</td>\n",
       "      <td>1</td>\n",
       "      <td>2000</td>\n",
       "      <td>24450</td>\n",
       "      <td>1</td>\n",
       "      <td>197000</td>\n",
       "      <td>0</td>\n",
       "      <td>371639</td>\n",
       "      <td>3018</td>\n",
       "      <td>6.9</td>\n",
       "      <td>0</td>\n",
       "    </tr>\n",
       "  </tbody>\n",
       "</table>\n",
       "<p>5 rows × 36 columns</p>\n",
       "</div>"
      ],
      "text/plain": [
       "   movie_ID                               movie_title  duration  color  \\\n",
       "0         1                                    Avatar       178      1   \n",
       "1         2  Pirates of the Caribbean: At World's End       169      1   \n",
       "2         3                     The Dark Knight Rises       164      1   \n",
       "3         4                              Spider-Man 3       156      1   \n",
       "4         5        Batman v Superman: Dawn of Justice       183      1   \n",
       "\n",
       "   title_year country language content_rating  budget_USD  gross_USD  \\\n",
       "0        2009     USA  English          PG-13   237000000  760505847   \n",
       "1        2007     USA  English          PG-13   300000000  309404152   \n",
       "2        2012     USA  English          PG-13   250000000  448130642   \n",
       "3        2007     USA  English          PG-13   258000000  336530303   \n",
       "4        2016     USA  English          PG-13   250000000  330249062   \n",
       "\n",
       "       ...       actor_3_facebook?  actor_3_facebook_likes  \\\n",
       "0      ...                       1                     855   \n",
       "1      ...                       1                    1000   \n",
       "2      ...                       1                   23000   \n",
       "3      ...                       1                    4000   \n",
       "4      ...                       1                    2000   \n",
       "\n",
       "  cast_total_facebook_likes movie_facebook?  movie_facebook_likes;  \\\n",
       "0                      4834               1                  33000   \n",
       "1                     48350               0                      0   \n",
       "2                    106759               1                 164000   \n",
       "3                     46055               0                      0   \n",
       "4                     24450               1                 197000   \n",
       "\n",
       "   facenumber_in_poster num_voted_users  num_user_for_reviews  imdb_score  \\\n",
       "0                     0          886204                  3054         7.9   \n",
       "1                     0          471220                  1238         7.1   \n",
       "2                     0         1144337                  2701         8.5   \n",
       "3                     0          383056                  1902         6.2   \n",
       "4                     0          371639                  3018         6.9   \n",
       "\n",
       "   imdb_top_250  \n",
       "0             0  \n",
       "1             0  \n",
       "2             1  \n",
       "3             0  \n",
       "4             0  \n",
       "\n",
       "[5 rows x 36 columns]"
      ]
     },
     "execution_count": 2,
     "metadata": {},
     "output_type": "execute_result"
    }
   ],
   "source": [
    "imdb = pd.read_csv(\"https://raw.githubusercontent.com/scalabretta/GroupProject--IMDB/master/Dataset/IMDB-database-update.csv\", encoding='latin1')\n",
    "imdb.head()"
   ]
  },
  {
   "cell_type": "markdown",
   "metadata": {},
   "source": [
    "### 1. How many rows and columns?\n",
    "\n",
    "There are 36 columns and 3781 rows. "
   ]
  },
  {
   "cell_type": "code",
   "execution_count": 3,
   "metadata": {},
   "outputs": [
    {
     "name": "stdout",
     "output_type": "stream",
     "text": [
      "kolom: 36\n",
      "baris: 3781\n"
     ]
    }
   ],
   "source": [
    "#column\n",
    "print(\"kolom:\",len(imdb.columns))\n",
    "#row\n",
    "print(\"baris:\",len(imdb))"
   ]
  },
  {
   "cell_type": "markdown",
   "metadata": {},
   "source": [
    "### 2. What are the top 3 movies with highest nett profit in 2015?"
   ]
  },
  {
   "cell_type": "code",
   "execution_count": 4,
   "metadata": {},
   "outputs": [
    {
     "data": {
      "text/html": [
       "<div>\n",
       "<style scoped>\n",
       "    .dataframe tbody tr th:only-of-type {\n",
       "        vertical-align: middle;\n",
       "    }\n",
       "\n",
       "    .dataframe tbody tr th {\n",
       "        vertical-align: top;\n",
       "    }\n",
       "\n",
       "    .dataframe thead th {\n",
       "        text-align: right;\n",
       "    }\n",
       "</style>\n",
       "<table border=\"1\" class=\"dataframe\">\n",
       "  <thead>\n",
       "    <tr style=\"text-align: right;\">\n",
       "      <th></th>\n",
       "      <th>movie_title</th>\n",
       "      <th>net_USD</th>\n",
       "    </tr>\n",
       "  </thead>\n",
       "  <tbody>\n",
       "    <tr>\n",
       "      <th>14</th>\n",
       "      <td>Jurassic World</td>\n",
       "      <td>502177271</td>\n",
       "    </tr>\n",
       "    <tr>\n",
       "      <th>256</th>\n",
       "      <td>Minions</td>\n",
       "      <td>262029560</td>\n",
       "    </tr>\n",
       "    <tr>\n",
       "      <th>3384</th>\n",
       "      <td>Avengers: Age of Ultron</td>\n",
       "      <td>208991599</td>\n",
       "    </tr>\n",
       "  </tbody>\n",
       "</table>\n",
       "</div>"
      ],
      "text/plain": [
       "                  movie_title    net_USD\n",
       "14             Jurassic World  502177271\n",
       "256                   Minions  262029560\n",
       "3384  Avengers: Age of Ultron  208991599"
      ]
     },
     "execution_count": 4,
     "metadata": {},
     "output_type": "execute_result"
    }
   ],
   "source": [
    "# imdb.dtypes\n",
    "imdb_2015=imdb[imdb.title_year==2015]\n",
    "year_2015=imdb_2015.sort_values('net_USD', ascending=False)\n",
    "year_2015.loc[:,['movie_title','net_USD']].head(3)"
   ]
  },
  {
   "cell_type": "markdown",
   "metadata": {},
   "source": [
    "### 3. What are the top 3 movies with highest gross profit in 2016?\n"
   ]
  },
  {
   "cell_type": "code",
   "execution_count": 5,
   "metadata": {},
   "outputs": [
    {
     "data": {
      "text/html": [
       "<div>\n",
       "<style scoped>\n",
       "    .dataframe tbody tr th:only-of-type {\n",
       "        vertical-align: middle;\n",
       "    }\n",
       "\n",
       "    .dataframe tbody tr th {\n",
       "        vertical-align: top;\n",
       "    }\n",
       "\n",
       "    .dataframe thead th {\n",
       "        text-align: right;\n",
       "    }\n",
       "</style>\n",
       "<table border=\"1\" class=\"dataframe\">\n",
       "  <thead>\n",
       "    <tr style=\"text-align: right;\">\n",
       "      <th></th>\n",
       "      <th>movie_title</th>\n",
       "      <th>gross_USD</th>\n",
       "    </tr>\n",
       "  </thead>\n",
       "  <tbody>\n",
       "    <tr>\n",
       "      <th>12</th>\n",
       "      <td>Captain America: Civil War</td>\n",
       "      <td>407197282</td>\n",
       "    </tr>\n",
       "    <tr>\n",
       "      <th>355</th>\n",
       "      <td>Deadpool</td>\n",
       "      <td>363024263</td>\n",
       "    </tr>\n",
       "    <tr>\n",
       "      <th>36</th>\n",
       "      <td>The Jungle Book</td>\n",
       "      <td>362645141</td>\n",
       "    </tr>\n",
       "  </tbody>\n",
       "</table>\n",
       "</div>"
      ],
      "text/plain": [
       "                    movie_title  gross_USD\n",
       "12   Captain America: Civil War  407197282\n",
       "355                    Deadpool  363024263\n",
       "36              The Jungle Book  362645141"
      ]
     },
     "execution_count": 5,
     "metadata": {},
     "output_type": "execute_result"
    }
   ],
   "source": [
    "imdb_2016=imdb[imdb.title_year==2016]\n",
    "year_2016=imdb_2016.sort_values('gross_USD', ascending=False)\n",
    "year_2016.loc[:,['movie_title','gross_USD']].head(3)"
   ]
  },
  {
   "cell_type": "markdown",
   "metadata": {},
   "source": [
    "### 4. How many non-english movies are in the dataset?"
   ]
  },
  {
   "cell_type": "code",
   "execution_count": 6,
   "metadata": {},
   "outputs": [],
   "source": [
    "movie_non_english = imdb[imdb.language!='English']"
   ]
  },
  {
   "cell_type": "code",
   "execution_count": 7,
   "metadata": {},
   "outputs": [
    {
     "name": "stdout",
     "output_type": "stream",
     "text": [
      "There are 152 non-english movies.\n"
     ]
    }
   ],
   "source": [
    "print(\"There are \" + str(len(movie_non_english.movie_title.unique()))+ \" non-english movies.\")"
   ]
  },
  {
   "cell_type": "markdown",
   "metadata": {},
   "source": [
    "### 5.What are top 3 languages in the dataset aside English (based on number of movies)?"
   ]
  },
  {
   "cell_type": "code",
   "execution_count": 8,
   "metadata": {},
   "outputs": [
    {
     "data": {
      "text/plain": [
       "French      33\n",
       "Spanish     23\n",
       "Mandarin    14\n",
       "Name: language, dtype: int64"
      ]
     },
     "execution_count": 8,
     "metadata": {},
     "output_type": "execute_result"
    }
   ],
   "source": [
    "imdb_non_eng = imdb[imdb.language!='English']\n",
    "imdb_non_eng['language'].value_counts().head(3)"
   ]
  },
  {
   "cell_type": "markdown",
   "metadata": {},
   "source": [
    "### 6.What are the top 3 countries with the highest nett profit in all dataset times?\n",
    "1. USA \n",
    "2. UK \n",
    "3. Australia"
   ]
  },
  {
   "cell_type": "code",
   "execution_count": 9,
   "metadata": {},
   "outputs": [
    {
     "data": {
      "text/html": [
       "<div>\n",
       "<style scoped>\n",
       "    .dataframe tbody tr th:only-of-type {\n",
       "        vertical-align: middle;\n",
       "    }\n",
       "\n",
       "    .dataframe tbody tr th {\n",
       "        vertical-align: top;\n",
       "    }\n",
       "\n",
       "    .dataframe thead th {\n",
       "        text-align: right;\n",
       "    }\n",
       "</style>\n",
       "<table border=\"1\" class=\"dataframe\">\n",
       "  <thead>\n",
       "    <tr style=\"text-align: right;\">\n",
       "      <th></th>\n",
       "      <th>net_USD</th>\n",
       "    </tr>\n",
       "    <tr>\n",
       "      <th>country</th>\n",
       "      <th></th>\n",
       "    </tr>\n",
       "  </thead>\n",
       "  <tbody>\n",
       "    <tr>\n",
       "      <th>USA</th>\n",
       "      <td>52003933174</td>\n",
       "    </tr>\n",
       "    <tr>\n",
       "      <th>UK</th>\n",
       "      <td>1531614524</td>\n",
       "    </tr>\n",
       "    <tr>\n",
       "      <th>Australia</th>\n",
       "      <td>252571616</td>\n",
       "    </tr>\n",
       "  </tbody>\n",
       "</table>\n",
       "</div>"
      ],
      "text/plain": [
       "               net_USD\n",
       "country               \n",
       "USA        52003933174\n",
       "UK          1531614524\n",
       "Australia    252571616"
      ]
     },
     "execution_count": 9,
     "metadata": {},
     "output_type": "execute_result"
    }
   ],
   "source": [
    "# group by function\n",
    "top_3 = imdb[['country','movie_title','net_USD']]\n",
    "top_3.groupby('country').sum().sort_values('net_USD', ascending=False).head(3)"
   ]
  },
  {
   "cell_type": "markdown",
   "metadata": {},
   "source": [
    "### 7.What are the average budget of all movies in dataset in 2015?"
   ]
  },
  {
   "cell_type": "code",
   "execution_count": 10,
   "metadata": {},
   "outputs": [
    {
     "name": "stdout",
     "output_type": "stream",
     "text": [
      "The average budget of all movies in dataset in 2015 is USD 55471931.81818182\n"
     ]
    }
   ],
   "source": [
    "imdb_2015 = imdb[imdb.title_year==2015]\n",
    "budget_2015 = imdb_2015['budget_USD'].mean()\n",
    "print(\"The average budget of all movies in dataset in 2015 is USD \" + str(budget_2015))"
   ]
  },
  {
   "cell_type": "markdown",
   "metadata": {},
   "source": [
    "### 8.What are the average budget of all movies in dataset in 2016? "
   ]
  },
  {
   "cell_type": "code",
   "execution_count": 11,
   "metadata": {},
   "outputs": [
    {
     "name": "stdout",
     "output_type": "stream",
     "text": [
      "The average budget of all movies in dataset in 2016 is USD 69225757.57575758\n"
     ]
    }
   ],
   "source": [
    "imdb_2016 = imdb[imdb.title_year==2016]\n",
    "budget_2016 = imdb_2016['budget_USD'].mean()\n",
    "print(\"The average budget of all movies in dataset in 2016 is USD \"+ str(budget_2016))"
   ]
  },
  {
   "cell_type": "markdown",
   "metadata": {},
   "source": [
    "### 9.Which one is higher, average budget of all movies in dataset in 2015 or 2016?"
   ]
  },
  {
   "cell_type": "code",
   "execution_count": 12,
   "metadata": {},
   "outputs": [
    {
     "name": "stdout",
     "output_type": "stream",
     "text": [
      "The average budget of all movies in dataset 2016 is higher than in 2015\n"
     ]
    }
   ],
   "source": [
    "if budget_2016 > budget_2015:\n",
    "    print(\"The average budget of all movies in dataset 2016 is higher than in 2015\")\n",
    "else :\n",
    "    print(\"The average budget of all movies in dataset 2015 is higher than in 2016\")"
   ]
  },
  {
   "cell_type": "markdown",
   "metadata": {},
   "source": [
    "### 10.What movie that resulted highest nett profit of all dataset times? How much did the movie make? \n",
    "\n",
    "Avatar resulted highest nett profit. It made USD 523,505,847."
   ]
  },
  {
   "cell_type": "code",
   "execution_count": 13,
   "metadata": {},
   "outputs": [
    {
     "data": {
      "text/html": [
       "<div>\n",
       "<style scoped>\n",
       "    .dataframe tbody tr th:only-of-type {\n",
       "        vertical-align: middle;\n",
       "    }\n",
       "\n",
       "    .dataframe tbody tr th {\n",
       "        vertical-align: top;\n",
       "    }\n",
       "\n",
       "    .dataframe thead th {\n",
       "        text-align: right;\n",
       "    }\n",
       "</style>\n",
       "<table border=\"1\" class=\"dataframe\">\n",
       "  <thead>\n",
       "    <tr style=\"text-align: right;\">\n",
       "      <th></th>\n",
       "      <th>movie_title</th>\n",
       "      <th>net_USD</th>\n",
       "    </tr>\n",
       "  </thead>\n",
       "  <tbody>\n",
       "    <tr>\n",
       "      <th>0</th>\n",
       "      <td>Avatar</td>\n",
       "      <td>523505847</td>\n",
       "    </tr>\n",
       "  </tbody>\n",
       "</table>\n",
       "</div>"
      ],
      "text/plain": [
       "  movie_title    net_USD\n",
       "0      Avatar  523505847"
      ]
     },
     "execution_count": 13,
     "metadata": {},
     "output_type": "execute_result"
    }
   ],
   "source": [
    "highest_nett = imdb.sort_values('net_USD', ascending=False).head(1)\n",
    "highest_nett[['movie_title','net_USD']]"
   ]
  }
 ],
 "metadata": {
  "kernelspec": {
   "display_name": "Python 3",
   "language": "python",
   "name": "python3"
  },
  "language_info": {
   "codemirror_mode": {
    "name": "ipython",
    "version": 3
   },
   "file_extension": ".py",
   "mimetype": "text/x-python",
   "name": "python",
   "nbconvert_exporter": "python",
   "pygments_lexer": "ipython3",
   "version": "3.6.8"
  }
 },
 "nbformat": 4,
 "nbformat_minor": 2
}
